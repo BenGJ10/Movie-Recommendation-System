{
 "cells": [
  {
   "cell_type": "markdown",
   "id": "4e571ad9-e479-449c-8e85-2275b2c090ef",
   "metadata": {},
   "source": [
    "# Movie Recommendation System using Machine Learning"
   ]
  },
  {
   "cell_type": "code",
   "execution_count": 9,
   "id": "8a4efd19-6057-4a79-b9c3-e921fcf28f87",
   "metadata": {},
   "outputs": [],
   "source": [
    "# Importing the dependencies\n",
    "import numpy as np\n",
    "import pandas as pd\n",
    "import difflib # For finding closematch of the movies\n",
    "import matplotlib.pyplot as plt\n",
    "import seaborn as sns\n",
    "\n",
    "import warnings\n",
    "warnings.filterwarnings('ignore')\n",
    "\n",
    "sns.set(style = 'whitegrid')\n",
    "plt.style.use('fivethirtyeight')"
   ]
  },
  {
   "cell_type": "markdown",
   "id": "aecb461a-a41e-4c85-b63f-d6a5bb352715",
   "metadata": {},
   "source": [
    "### Workflow\n",
    "1. Data Collection\n",
    "2. Data Preprocessing\n",
    "3. Feature Extraction\n",
    "4. User Input\n",
    "5. Cosine Similarity\n",
    "6. List of Movies as output"
   ]
  },
  {
   "cell_type": "markdown",
   "id": "2d7a1cc5-b680-4796-ae7d-a5e0c364adb3",
   "metadata": {},
   "source": [
    "### Data Collection and Pre-Processing"
   ]
  },
  {
   "cell_type": "code",
   "execution_count": 6,
   "id": "abbae95c-e2ee-483f-8eba-2c4f9f545df1",
   "metadata": {},
   "outputs": [],
   "source": [
    "movies_data = pd.read_csv('Datasets/movies.csv')"
   ]
  },
  {
   "cell_type": "code",
   "execution_count": 20,
   "id": "820d6bfe-8b9c-4113-8ae3-ad01d37e1cb6",
   "metadata": {},
   "outputs": [
    {
     "data": {
      "text/html": [
       "<div>\n",
       "<style scoped>\n",
       "    .dataframe tbody tr th:only-of-type {\n",
       "        vertical-align: middle;\n",
       "    }\n",
       "\n",
       "    .dataframe tbody tr th {\n",
       "        vertical-align: top;\n",
       "    }\n",
       "\n",
       "    .dataframe thead th {\n",
       "        text-align: right;\n",
       "    }\n",
       "</style>\n",
       "<table border=\"1\" class=\"dataframe\">\n",
       "  <thead>\n",
       "    <tr style=\"text-align: right;\">\n",
       "      <th></th>\n",
       "      <th>index</th>\n",
       "      <th>budget</th>\n",
       "      <th>genres</th>\n",
       "      <th>homepage</th>\n",
       "      <th>id</th>\n",
       "      <th>keywords</th>\n",
       "      <th>original_language</th>\n",
       "      <th>original_title</th>\n",
       "      <th>overview</th>\n",
       "      <th>popularity</th>\n",
       "      <th>...</th>\n",
       "      <th>runtime</th>\n",
       "      <th>spoken_languages</th>\n",
       "      <th>status</th>\n",
       "      <th>tagline</th>\n",
       "      <th>title</th>\n",
       "      <th>vote_average</th>\n",
       "      <th>vote_count</th>\n",
       "      <th>cast</th>\n",
       "      <th>crew</th>\n",
       "      <th>director</th>\n",
       "    </tr>\n",
       "  </thead>\n",
       "  <tbody>\n",
       "    <tr>\n",
       "      <th>0</th>\n",
       "      <td>0</td>\n",
       "      <td>237000000</td>\n",
       "      <td>Action Adventure Fantasy Science Fiction</td>\n",
       "      <td>http://www.avatarmovie.com/</td>\n",
       "      <td>19995</td>\n",
       "      <td>culture clash future space war space colony so...</td>\n",
       "      <td>en</td>\n",
       "      <td>Avatar</td>\n",
       "      <td>In the 22nd century, a paraplegic Marine is di...</td>\n",
       "      <td>150.437577</td>\n",
       "      <td>...</td>\n",
       "      <td>162.0</td>\n",
       "      <td>[{\"iso_639_1\": \"en\", \"name\": \"English\"}, {\"iso...</td>\n",
       "      <td>Released</td>\n",
       "      <td>Enter the World of Pandora.</td>\n",
       "      <td>Avatar</td>\n",
       "      <td>7.2</td>\n",
       "      <td>11800</td>\n",
       "      <td>Sam Worthington Zoe Saldana Sigourney Weaver S...</td>\n",
       "      <td>[{'name': 'Stephen E. Rivkin', 'gender': 0, 'd...</td>\n",
       "      <td>James Cameron</td>\n",
       "    </tr>\n",
       "    <tr>\n",
       "      <th>1</th>\n",
       "      <td>1</td>\n",
       "      <td>300000000</td>\n",
       "      <td>Adventure Fantasy Action</td>\n",
       "      <td>http://disney.go.com/disneypictures/pirates/</td>\n",
       "      <td>285</td>\n",
       "      <td>ocean drug abuse exotic island east india trad...</td>\n",
       "      <td>en</td>\n",
       "      <td>Pirates of the Caribbean: At World's End</td>\n",
       "      <td>Captain Barbossa, long believed to be dead, ha...</td>\n",
       "      <td>139.082615</td>\n",
       "      <td>...</td>\n",
       "      <td>169.0</td>\n",
       "      <td>[{\"iso_639_1\": \"en\", \"name\": \"English\"}]</td>\n",
       "      <td>Released</td>\n",
       "      <td>At the end of the world, the adventure begins.</td>\n",
       "      <td>Pirates of the Caribbean: At World's End</td>\n",
       "      <td>6.9</td>\n",
       "      <td>4500</td>\n",
       "      <td>Johnny Depp Orlando Bloom Keira Knightley Stel...</td>\n",
       "      <td>[{'name': 'Dariusz Wolski', 'gender': 2, 'depa...</td>\n",
       "      <td>Gore Verbinski</td>\n",
       "    </tr>\n",
       "    <tr>\n",
       "      <th>2</th>\n",
       "      <td>2</td>\n",
       "      <td>245000000</td>\n",
       "      <td>Action Adventure Crime</td>\n",
       "      <td>http://www.sonypictures.com/movies/spectre/</td>\n",
       "      <td>206647</td>\n",
       "      <td>spy based on novel secret agent sequel mi6</td>\n",
       "      <td>en</td>\n",
       "      <td>Spectre</td>\n",
       "      <td>A cryptic message from Bond’s past sends him o...</td>\n",
       "      <td>107.376788</td>\n",
       "      <td>...</td>\n",
       "      <td>148.0</td>\n",
       "      <td>[{\"iso_639_1\": \"fr\", \"name\": \"Fran\\u00e7ais\"},...</td>\n",
       "      <td>Released</td>\n",
       "      <td>A Plan No One Escapes</td>\n",
       "      <td>Spectre</td>\n",
       "      <td>6.3</td>\n",
       "      <td>4466</td>\n",
       "      <td>Daniel Craig Christoph Waltz L\\u00e9a Seydoux ...</td>\n",
       "      <td>[{'name': 'Thomas Newman', 'gender': 2, 'depar...</td>\n",
       "      <td>Sam Mendes</td>\n",
       "    </tr>\n",
       "    <tr>\n",
       "      <th>3</th>\n",
       "      <td>3</td>\n",
       "      <td>250000000</td>\n",
       "      <td>Action Crime Drama Thriller</td>\n",
       "      <td>http://www.thedarkknightrises.com/</td>\n",
       "      <td>49026</td>\n",
       "      <td>dc comics crime fighter terrorist secret ident...</td>\n",
       "      <td>en</td>\n",
       "      <td>The Dark Knight Rises</td>\n",
       "      <td>Following the death of District Attorney Harve...</td>\n",
       "      <td>112.312950</td>\n",
       "      <td>...</td>\n",
       "      <td>165.0</td>\n",
       "      <td>[{\"iso_639_1\": \"en\", \"name\": \"English\"}]</td>\n",
       "      <td>Released</td>\n",
       "      <td>The Legend Ends</td>\n",
       "      <td>The Dark Knight Rises</td>\n",
       "      <td>7.6</td>\n",
       "      <td>9106</td>\n",
       "      <td>Christian Bale Michael Caine Gary Oldman Anne ...</td>\n",
       "      <td>[{'name': 'Hans Zimmer', 'gender': 2, 'departm...</td>\n",
       "      <td>Christopher Nolan</td>\n",
       "    </tr>\n",
       "    <tr>\n",
       "      <th>4</th>\n",
       "      <td>4</td>\n",
       "      <td>260000000</td>\n",
       "      <td>Action Adventure Science Fiction</td>\n",
       "      <td>http://movies.disney.com/john-carter</td>\n",
       "      <td>49529</td>\n",
       "      <td>based on novel mars medallion space travel pri...</td>\n",
       "      <td>en</td>\n",
       "      <td>John Carter</td>\n",
       "      <td>John Carter is a war-weary, former military ca...</td>\n",
       "      <td>43.926995</td>\n",
       "      <td>...</td>\n",
       "      <td>132.0</td>\n",
       "      <td>[{\"iso_639_1\": \"en\", \"name\": \"English\"}]</td>\n",
       "      <td>Released</td>\n",
       "      <td>Lost in our world, found in another.</td>\n",
       "      <td>John Carter</td>\n",
       "      <td>6.1</td>\n",
       "      <td>2124</td>\n",
       "      <td>Taylor Kitsch Lynn Collins Samantha Morton Wil...</td>\n",
       "      <td>[{'name': 'Andrew Stanton', 'gender': 2, 'depa...</td>\n",
       "      <td>Andrew Stanton</td>\n",
       "    </tr>\n",
       "  </tbody>\n",
       "</table>\n",
       "<p>5 rows × 24 columns</p>\n",
       "</div>"
      ],
      "text/plain": [
       "   index     budget                                    genres  \\\n",
       "0      0  237000000  Action Adventure Fantasy Science Fiction   \n",
       "1      1  300000000                  Adventure Fantasy Action   \n",
       "2      2  245000000                    Action Adventure Crime   \n",
       "3      3  250000000               Action Crime Drama Thriller   \n",
       "4      4  260000000          Action Adventure Science Fiction   \n",
       "\n",
       "                                       homepage      id  \\\n",
       "0                   http://www.avatarmovie.com/   19995   \n",
       "1  http://disney.go.com/disneypictures/pirates/     285   \n",
       "2   http://www.sonypictures.com/movies/spectre/  206647   \n",
       "3            http://www.thedarkknightrises.com/   49026   \n",
       "4          http://movies.disney.com/john-carter   49529   \n",
       "\n",
       "                                            keywords original_language  \\\n",
       "0  culture clash future space war space colony so...                en   \n",
       "1  ocean drug abuse exotic island east india trad...                en   \n",
       "2         spy based on novel secret agent sequel mi6                en   \n",
       "3  dc comics crime fighter terrorist secret ident...                en   \n",
       "4  based on novel mars medallion space travel pri...                en   \n",
       "\n",
       "                             original_title  \\\n",
       "0                                    Avatar   \n",
       "1  Pirates of the Caribbean: At World's End   \n",
       "2                                   Spectre   \n",
       "3                     The Dark Knight Rises   \n",
       "4                               John Carter   \n",
       "\n",
       "                                            overview  popularity  ... runtime  \\\n",
       "0  In the 22nd century, a paraplegic Marine is di...  150.437577  ...   162.0   \n",
       "1  Captain Barbossa, long believed to be dead, ha...  139.082615  ...   169.0   \n",
       "2  A cryptic message from Bond’s past sends him o...  107.376788  ...   148.0   \n",
       "3  Following the death of District Attorney Harve...  112.312950  ...   165.0   \n",
       "4  John Carter is a war-weary, former military ca...   43.926995  ...   132.0   \n",
       "\n",
       "                                    spoken_languages    status  \\\n",
       "0  [{\"iso_639_1\": \"en\", \"name\": \"English\"}, {\"iso...  Released   \n",
       "1           [{\"iso_639_1\": \"en\", \"name\": \"English\"}]  Released   \n",
       "2  [{\"iso_639_1\": \"fr\", \"name\": \"Fran\\u00e7ais\"},...  Released   \n",
       "3           [{\"iso_639_1\": \"en\", \"name\": \"English\"}]  Released   \n",
       "4           [{\"iso_639_1\": \"en\", \"name\": \"English\"}]  Released   \n",
       "\n",
       "                                          tagline  \\\n",
       "0                     Enter the World of Pandora.   \n",
       "1  At the end of the world, the adventure begins.   \n",
       "2                           A Plan No One Escapes   \n",
       "3                                 The Legend Ends   \n",
       "4            Lost in our world, found in another.   \n",
       "\n",
       "                                      title vote_average vote_count  \\\n",
       "0                                    Avatar          7.2      11800   \n",
       "1  Pirates of the Caribbean: At World's End          6.9       4500   \n",
       "2                                   Spectre          6.3       4466   \n",
       "3                     The Dark Knight Rises          7.6       9106   \n",
       "4                               John Carter          6.1       2124   \n",
       "\n",
       "                                                cast  \\\n",
       "0  Sam Worthington Zoe Saldana Sigourney Weaver S...   \n",
       "1  Johnny Depp Orlando Bloom Keira Knightley Stel...   \n",
       "2  Daniel Craig Christoph Waltz L\\u00e9a Seydoux ...   \n",
       "3  Christian Bale Michael Caine Gary Oldman Anne ...   \n",
       "4  Taylor Kitsch Lynn Collins Samantha Morton Wil...   \n",
       "\n",
       "                                                crew           director  \n",
       "0  [{'name': 'Stephen E. Rivkin', 'gender': 0, 'd...      James Cameron  \n",
       "1  [{'name': 'Dariusz Wolski', 'gender': 2, 'depa...     Gore Verbinski  \n",
       "2  [{'name': 'Thomas Newman', 'gender': 2, 'depar...         Sam Mendes  \n",
       "3  [{'name': 'Hans Zimmer', 'gender': 2, 'departm...  Christopher Nolan  \n",
       "4  [{'name': 'Andrew Stanton', 'gender': 2, 'depa...     Andrew Stanton  \n",
       "\n",
       "[5 rows x 24 columns]"
      ]
     },
     "execution_count": 20,
     "metadata": {},
     "output_type": "execute_result"
    }
   ],
   "source": [
    "movies_data.head()"
   ]
  },
  {
   "cell_type": "code",
   "execution_count": 24,
   "id": "3166cb52-5525-4437-ac7f-91315b60ba9b",
   "metadata": {},
   "outputs": [
    {
     "data": {
      "text/plain": [
       "(4803, 24)"
      ]
     },
     "execution_count": 24,
     "metadata": {},
     "output_type": "execute_result"
    }
   ],
   "source": [
    "movies_data.shape"
   ]
  },
  {
   "cell_type": "markdown",
   "id": "e1ea6fc1-6991-48dc-af63-225cff6d3b8f",
   "metadata": {},
   "source": [
    "### Feature Selection"
   ]
  },
  {
   "cell_type": "code",
   "execution_count": 26,
   "id": "2877fc23-5295-4220-8b6d-495c97daeef4",
   "metadata": {},
   "outputs": [
    {
     "name": "stdout",
     "output_type": "stream",
     "text": [
      "['genres', 'title', 'keywords', 'tagline', 'cast', 'director']\n"
     ]
    }
   ],
   "source": [
    "selected_features = ['genres', 'title', 'keywords', 'tagline', 'cast', 'director']\n",
    "print(selected_features)"
   ]
  },
  {
   "cell_type": "code",
   "execution_count": 28,
   "id": "20139357-a8ac-4b38-94e0-96342d0bb2d8",
   "metadata": {},
   "outputs": [],
   "source": [
    "# Replacing the missing values with null string\n",
    "\n",
    "for feature in selected_features:\n",
    "    movies_data[feature] = movies_data[feature].fillna('')"
   ]
  },
  {
   "cell_type": "code",
   "execution_count": 30,
   "id": "a870ee1f-bc37-4203-9d31-03560c0d1984",
   "metadata": {},
   "outputs": [],
   "source": [
    "# Combining all selected features\n",
    "\n",
    "combined_features = movies_data['genres']+' '+movies_data['title']+' '+movies_data['keywords']+' '+movies_data['tagline']+' '+movies_data['cast']+' '+movies_data['director']"
   ]
  },
  {
   "cell_type": "code",
   "execution_count": 32,
   "id": "61a6a7e5-2ae9-4309-a5f0-353328267976",
   "metadata": {},
   "outputs": [
    {
     "name": "stdout",
     "output_type": "stream",
     "text": [
      "0       Action Adventure Fantasy Science Fiction Avata...\n",
      "1       Adventure Fantasy Action Pirates of the Caribb...\n",
      "2       Action Adventure Crime Spectre spy based on no...\n",
      "3       Action Crime Drama Thriller The Dark Knight Ri...\n",
      "4       Action Adventure Science Fiction John Carter b...\n",
      "                              ...                        \n",
      "4798    Action Crime Thriller El Mariachi united state...\n",
      "4799    Comedy Romance Newlyweds  A newlywed couple's ...\n",
      "4800    Comedy Drama Romance TV Movie Signed, Sealed, ...\n",
      "4801     Shanghai Calling  A New Yorker in Shanghai Da...\n",
      "4802    Documentary My Date with Drew obsession camcor...\n",
      "Length: 4803, dtype: object\n"
     ]
    }
   ],
   "source": [
    "print(combined_features)"
   ]
  },
  {
   "cell_type": "code",
   "execution_count": 13,
   "id": "e4c6fd53-9612-488d-8eb6-e26f70ee4f19",
   "metadata": {},
   "outputs": [],
   "source": [
    "# For converting textual data to numerical data\n",
    "from sklearn.feature_extraction.text import TfidfVectorizer"
   ]
  },
  {
   "cell_type": "code",
   "execution_count": 41,
   "id": "0db8eff7-58d0-4b8e-90d2-6a0479a4edab",
   "metadata": {},
   "outputs": [],
   "source": [
    "# Converting the textual data into feature vectors\n",
    "vectorizer = TfidfVectorizer()"
   ]
  },
  {
   "cell_type": "code",
   "execution_count": 37,
   "id": "0d57b5d0-fc6e-4aa4-87af-c6f3ec1bc129",
   "metadata": {},
   "outputs": [],
   "source": [
    "feature_vectors = vectorizer.fit_transform(combined_features)"
   ]
  },
  {
   "cell_type": "code",
   "execution_count": 39,
   "id": "26c4718d-676f-49b8-bf35-203935b98849",
   "metadata": {},
   "outputs": [
    {
     "name": "stdout",
     "output_type": "stream",
     "text": [
      "  (0, 2720)\t0.16779665077750835\n",
      "  (0, 8651)\t0.10950771233518673\n",
      "  (0, 14400)\t0.18869504935935053\n",
      "  (0, 11288)\t0.15600564366704217\n",
      "  (0, 9709)\t0.22061174669983702\n",
      "  (0, 16170)\t0.1471845509560594\n",
      "  (0, 18477)\t0.19277176743945276\n",
      "  (0, 15542)\t0.2000852661458036\n",
      "  (0, 14718)\t0.21153518149440184\n",
      "  (0, 19148)\t0.19502634639381392\n",
      "  (0, 18845)\t0.22968831190527222\n",
      "  (0, 14749)\t0.14568185359096344\n",
      "  (0, 12700)\t0.2552737122112953\n",
      "  (0, 12356)\t0.0757123618230531\n",
      "  (0, 18835)\t0.12179929157015998\n",
      "  (0, 16904)\t0.05365726945306951\n",
      "  (0, 5519)\t0.22061174669983702\n",
      "  (0, 15785)\t0.2044948505609709\n",
      "  (0, 3587)\t0.24248101205828376\n",
      "  (0, 18385)\t0.12067236175146148\n",
      "  (0, 15901)\t0.3255851082321633\n",
      "  (0, 6519)\t0.15884357175977004\n",
      "  (0, 3408)\t0.21574818782392274\n",
      "  (0, 4103)\t0.20781904654682548\n",
      "  (0, 1183)\t0.2771429775697421\n",
      "  :\t:\n",
      "  (4801, 7731)\t0.25682086501772416\n",
      "  (4801, 12869)\t0.1918304797254379\n",
      "  (4801, 1880)\t0.1383742924803071\n",
      "  (4801, 12062)\t0.1190062927991386\n",
      "  (4801, 8323)\t0.094776382167548\n",
      "  (4801, 4234)\t0.29746150030320895\n",
      "  (4802, 7795)\t0.5216361514370891\n",
      "  (4802, 5983)\t0.21020033532035964\n",
      "  (4802, 2713)\t0.21965593076227957\n",
      "  (4802, 4075)\t0.23361137778678812\n",
      "  (4802, 5154)\t0.21965593076227957\n",
      "  (4802, 7155)\t0.1990748582841471\n",
      "  (4802, 4872)\t0.14077094358004483\n",
      "  (4802, 11833)\t0.15982900472805897\n",
      "  (4802, 14359)\t0.15483075700796473\n",
      "  (4802, 1484)\t0.17943647486170822\n",
      "  (4802, 5058)\t0.3551602144357908\n",
      "  (4802, 3828)\t0.1990748582841471\n",
      "  (4802, 6859)\t0.15400592032344299\n",
      "  (4802, 5562)\t0.14713724676347995\n",
      "  (4802, 2377)\t0.2836629848646766\n",
      "  (4802, 5042)\t0.1505539096061358\n",
      "  (4802, 18753)\t0.1310795072540554\n",
      "  (4802, 12322)\t0.1635124021723343\n",
      "  (4802, 4303)\t0.18245862811770255\n"
     ]
    }
   ],
   "source": [
    "print(feature_vectors)"
   ]
  },
  {
   "cell_type": "markdown",
   "id": "9aacf063-2909-4ac6-9cd0-f947d0098ea5",
   "metadata": {},
   "source": [
    "### Getting the similarity scores"
   ]
  },
  {
   "cell_type": "code",
   "execution_count": 17,
   "id": "e4dd6e53-4f62-4a7e-9633-c79b57e70b72",
   "metadata": {},
   "outputs": [],
   "source": [
    "# For finding similarities\n",
    "from sklearn.metrics.pairwise import cosine_similarity"
   ]
  },
  {
   "cell_type": "code",
   "execution_count": 44,
   "id": "83117451-4c41-4a91-933e-b90d716dce9f",
   "metadata": {},
   "outputs": [],
   "source": [
    "cos_similarity = cosine_similarity(feature_vectors)"
   ]
  },
  {
   "cell_type": "code",
   "execution_count": 46,
   "id": "64c4ba23-4f3c-444b-8116-9dcebe61aecb",
   "metadata": {},
   "outputs": [
    {
     "name": "stdout",
     "output_type": "stream",
     "text": [
      "[[1.         0.07294698 0.03533251 ... 0.         0.         0.        ]\n",
      " [0.07294698 1.         0.02792771 ... 0.04419983 0.         0.        ]\n",
      " [0.03533251 0.02792771 1.         ... 0.         0.04636139 0.        ]\n",
      " ...\n",
      " [0.         0.04419983 0.         ... 1.         0.         0.05551043]\n",
      " [0.         0.         0.04636139 ... 0.         1.         0.        ]\n",
      " [0.         0.         0.         ... 0.05551043 0.         1.        ]]\n"
     ]
    }
   ],
   "source": [
    "print(cos_similarity)"
   ]
  },
  {
   "cell_type": "code",
   "execution_count": 48,
   "id": "879ed5fb-df54-4898-bba4-1fe1cab4d4af",
   "metadata": {},
   "outputs": [
    {
     "name": "stdout",
     "output_type": "stream",
     "text": [
      "(4803, 4803)\n"
     ]
    }
   ],
   "source": [
    "print(cos_similarity.shape)"
   ]
  },
  {
   "cell_type": "markdown",
   "id": "545d9c09-1b93-4b47-82a6-0a4927d05e74",
   "metadata": {},
   "source": [
    "### User Input"
   ]
  },
  {
   "cell_type": "code",
   "execution_count": 51,
   "id": "715a1cba-e56f-48b6-a954-ded34b3098c7",
   "metadata": {},
   "outputs": [
    {
     "name": "stdin",
     "output_type": "stream",
     "text": [
      " Enter your favourite movie name:  Iron Man\n"
     ]
    }
   ],
   "source": [
    "movie_name = input(\" Enter your favourite movie name: \")"
   ]
  },
  {
   "cell_type": "code",
   "execution_count": 55,
   "id": "194c5530-682d-4106-84b5-ecf2c2dd9c40",
   "metadata": {},
   "outputs": [],
   "source": [
    "# Creating a list with all the movie names given in the dataset\n",
    "list_of_all_titles = movies_data['title'].tolist()"
   ]
  },
  {
   "cell_type": "code",
   "execution_count": 59,
   "id": "0f9dc657-e124-4e97-b66d-a94d21ab9d7f",
   "metadata": {},
   "outputs": [
    {
     "name": "stdout",
     "output_type": "stream",
     "text": [
      "['Iron Man', 'Iron Man 3', 'Iron Man 2']\n"
     ]
    }
   ],
   "source": [
    "# Finding the close match for the movie name given by the user\n",
    "find_close_match = difflib.get_close_matches(movie_name, list_of_all_titles)\n",
    "print(find_close_match)"
   ]
  },
  {
   "cell_type": "code",
   "execution_count": 61,
   "id": "2dcb4126-d7b1-4d4a-9f8b-ca0f7fef1eb5",
   "metadata": {},
   "outputs": [
    {
     "name": "stdout",
     "output_type": "stream",
     "text": [
      "Iron Man\n"
     ]
    }
   ],
   "source": [
    "close_match  = find_close_match[0]\n",
    "print(close_match)"
   ]
  },
  {
   "cell_type": "code",
   "execution_count": 65,
   "id": "9890beec-ff32-49ff-81ba-7d22e30b9b8d",
   "metadata": {},
   "outputs": [
    {
     "name": "stdout",
     "output_type": "stream",
     "text": [
      "68\n"
     ]
    }
   ],
   "source": [
    "index_of_the_movie = movies_data[movies_data.title == close_match]['index'].values[0]\n",
    "print(index_of_the_movie)"
   ]
  },
  {
   "cell_type": "code",
   "execution_count": 67,
   "id": "165e1e57-fdea-421c-a409-f955eba5d6a4",
   "metadata": {},
   "outputs": [],
   "source": [
    "# Getting a list of similar movies \n",
    "similarity_score = list(enumerate(cos_similarity[index_of_the_movie]))"
   ]
  },
  {
   "cell_type": "code",
   "execution_count": 71,
   "id": "48952046-fb1d-422d-94b0-bcb6351d4d49",
   "metadata": {},
   "outputs": [],
   "source": [
    "# Sorting the movies based on their similarity score\n",
    "sorted_similar_movies = sorted(similarity_score, key = lambda x:x[1], reverse = True)"
   ]
  },
  {
   "cell_type": "code",
   "execution_count": 81,
   "id": "326deb1b-2983-4608-8d9a-7fe954626247",
   "metadata": {},
   "outputs": [
    {
     "name": "stdout",
     "output_type": "stream",
     "text": [
      "Movies suggested for you: \n",
      "\n",
      "1. Iron Man\n",
      "2. Iron Man 2\n",
      "3. Iron Man 3\n",
      "4. The Avengers\n",
      "5. Avengers: Age of Ultron\n",
      "6. Ant-Man\n",
      "7. Captain America: Civil War\n",
      "8. Captain America: The Winter Soldier\n",
      "9. X-Men\n",
      "10. Made\n",
      "11. X-Men: Apocalypse\n",
      "12. X2\n",
      "13. The Incredible Hulk\n",
      "14. X-Men: First Class\n",
      "15. Deadpool\n",
      "16. Kick-Ass 2\n",
      "17. X-Men: Days of Future Past\n",
      "18. Guardians of the Galaxy\n",
      "19. Thor: The Dark World\n",
      "20. Captain America: The First Avenger\n"
     ]
    }
   ],
   "source": [
    "# Printing the name of similar movies based on the index\n",
    "\n",
    "print(\"Movies suggested for you: \\n\")\n",
    "i = 1\n",
    "\n",
    "for movie in sorted_similar_movies:\n",
    "    index = movie[0]\n",
    "    title_from_index = movies_data[movies_data.index == index]['title'].values[0]\n",
    "    if(i < 21):\n",
    "        print(f\"{i}. {title_from_index}\")\n",
    "        i += 1"
   ]
  },
  {
   "cell_type": "code",
   "execution_count": null,
   "id": "ba936406-d37c-4e5b-8e87-049e299cabbf",
   "metadata": {},
   "outputs": [],
   "source": []
  }
 ],
 "metadata": {
  "kernelspec": {
   "display_name": "Python 3 (ipykernel)",
   "language": "python",
   "name": "python3"
  },
  "language_info": {
   "codemirror_mode": {
    "name": "ipython",
    "version": 3
   },
   "file_extension": ".py",
   "mimetype": "text/x-python",
   "name": "python",
   "nbconvert_exporter": "python",
   "pygments_lexer": "ipython3",
   "version": "3.12.4"
  }
 },
 "nbformat": 4,
 "nbformat_minor": 5
}
